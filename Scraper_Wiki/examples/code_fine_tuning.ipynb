{
  "cells": [
    {
      "cell_type": "markdown",
      "metadata": {},
      "source": "# Fine-tuning Code Models"
    },
    {
      "cell_type": "markdown",
      "metadata": {},
      "source": "Este notebook mostra como gerar um dataset de reposit\u00f3rios do GitHub e treinar um modelo de gera\u00e7\u00e3o de c\u00f3digo."
    },
    {
      "cell_type": "code",
      "metadata": {},
      "source": "!pip install -q transformers datasets"
    },
    {
      "cell_type": "code",
      "metadata": {},
      "source": "from plugins import load_plugin, run_plugin\nplugin = load_plugin('github_scraper')\nrecords = run_plugin(plugin, ['en'], ['machine-learning'])"
    },
    {
      "cell_type": "code",
      "metadata": {},
      "source": "from datasets import Dataset\nds = Dataset.from_list(records)\nprint(ds[0])"
    },
    {
      "cell_type": "code",
      "metadata": {},
      "source": "from transformers import AutoModelForCausalLM, Trainer, TrainingArguments\nmodel = AutoModelForCausalLM.from_pretrained('Salesforce/codegen-350M-multi')\nargs = TrainingArguments(output_dir='ft-code', num_train_epochs=1)\ntrainer = Trainer(model=model, args=args, train_dataset=ds)\ntrainer.train()"
    }
  ],
  "metadata": {
    "kernelspec": {
      "display_name": "Python 3",
      "language": "python",
      "name": "python3"
    }
  },
  "nbformat": 4,
  "nbformat_minor": 5
}
