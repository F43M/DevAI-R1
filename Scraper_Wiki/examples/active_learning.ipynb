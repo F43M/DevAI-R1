{
 "cells": [
  {"cell_type": "markdown", "metadata": {}, "source": "# Active Learning Experiments"},
  {"cell_type": "markdown", "metadata": {}, "source": "Demonstrates scoring pages and prioritizing scraping tasks using `ActiveLearner`."},
  {"cell_type": "code", "execution_count": null, "metadata": {}, "outputs": [], "source": "from enrichment.active_learning import ActiveLearner\n\npages = [\n    {\"title\": \"Python (programming language)\"},\n    {\"title\": \"Artificial intelligence\"},\n    {\"title\": \"Monty Python\"},\n]\n\nlearner = ActiveLearner()\nlearner.enqueue(pages)"}
 ],
 "metadata": {"kernelspec": {"display_name": "Python 3", "language": "python", "name": "python3"}, "language_info": {"name": "python"}},
 "nbformat": 4,
 "nbformat_minor": 5
}
